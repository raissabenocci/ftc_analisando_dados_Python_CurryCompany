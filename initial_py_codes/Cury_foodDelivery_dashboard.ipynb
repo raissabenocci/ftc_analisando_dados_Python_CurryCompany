{
 "cells": [
  {
   "cell_type": "markdown",
   "id": "1d9df837-d8cb-47a3-bdb0-db614d177d1e",
   "metadata": {},
   "source": [
    "# Dashboard das Entregas do Cury food delivery"
   ]
  },
  {
   "cell_type": "code",
   "execution_count": null,
   "id": "72c4927d-12bc-4f92-a9bc-ab94246313e0",
   "metadata": {},
   "outputs": [],
   "source": [
    "import pandas as pd\n",
    "import plotly.express as px\n",
    "\n",
    "from haversine import haversine  # para calcular a distância entre dois pontos geográficos"
   ]
  },
  {
   "cell_type": "code",
   "execution_count": null,
   "id": "befe3072-6ad2-4267-8cf8-435148fe1e7a",
   "metadata": {},
   "outputs": [],
   "source": [
    "# Carregar os dados da tabela\n",
    "df = pd.read_csv('train.csv')\n",
    "\n",
    "# Limpeza de dados\n",
    "df1 = df.copy()\n",
    "df1.dtypes\n",
    "\n",
    "\n",
    "# Jogar fora linhas com 'NaN'\n",
    "df1 = df1.loc[ df1['Delivery_person_Age'] != 'NaN '    , : ]\n",
    "df1 = df1.loc[ df1['Delivery_person_Ratings'] != 'NaN ', : ]\n",
    "df1 = df1.loc[ df1['multiple_deliveries'] != 'NaN '    , : ]\n",
    "#df1 = df1.loc[ df1['Time_Orderd'] != 'NaN '           , : ]  # Time_Order_picked\n",
    "#df1 = df1.loc[ df1['Time_Order_picked'] != 'NaN '     , : ]\n",
    "df1 = df1.astype({'multiple_deliveries':'str'})\n",
    "df1 = df1.loc[ df1['multiple_deliveries'] != 'nan', : ]\n",
    "df1 = df1.loc[ df1['Road_traffic_density'] != 'NaN '   , : ]\n",
    "df1 = df1.loc[ df1['City'] != 'NaN '      , : ]\n",
    "df1 = df1.loc[ df1['Festival'] != 'NaN '      , : ]\n",
    "\n",
    "\n",
    "# Converter de object para tipos apropriados\n",
    "df1 = df1.astype({'Delivery_person_Age':'int64',\n",
    "                  'Delivery_person_Ratings':'float64',\n",
    "                  'multiple_deliveries':'int64',\n",
    "                  'Vehicle_condition':'int64'})\n",
    "\n",
    "# converter a \"Order Date\" para datetime\n",
    "df1['Order_Date'] = pd.to_datetime( df1['Order_Date'], format='%d-%m-%Y')\n",
    "# df1['Time_Orderd'] = pd.to_datetime( df1['Time_Orderd'], format='%H:%M:%S')\n",
    "# df1['Time_Order_picked'] = pd.to_datetime( df1['Time_Order_picked'], format='%H:%M:%S')\n",
    "\n",
    "\n",
    "# Tirar espaços que sobram\n",
    "df1.loc[:, ['ID']]                   = df1.loc[:, ['ID']                   ].squeeze().str.strip()\n",
    "df1.loc[:, ['Delivery_person_ID']]   = df1.loc[:, ['Delivery_person_ID']   ].squeeze().str.strip()\n",
    "df1.loc[:, ['Road_traffic_density']] = df1.loc[:, ['Road_traffic_density'] ].squeeze().str.strip()\n",
    "df1.loc[:, ['Type_of_order']]        = df1.loc[:, ['Type_of_order']        ].squeeze().str.strip()\n",
    "df1.loc[:, ['Type_of_vehicle']]      = df1.loc[:, ['Type_of_vehicle']      ].squeeze().str.strip()\n",
    "df1.loc[:, ['City']]                 = df1.loc[:, ['City']                 ].squeeze().str.strip()\n",
    "df1.loc[:, ['Festival']]             = df1.loc[:, ['Festival']                 ].squeeze().str.strip()\n",
    "\n",
    "# Throw away the substring 'conditions ' from field ['Weatherconditions']\n",
    "# and '(min) ' from field ['Time_taken(min)']\n",
    "df1 = df1.replace({'Weatherconditions': 'conditions ','Time_taken(min)': r\"\\(.*\\) \"},                   {'Weatherconditions': '','Time_taken(min)': \"\"}, regex=True)\n",
    "# or  df1['Time_taken(min)'] = df1['Time_taken(min)'].apply( lambda x: x.split( '(min) ')[1] )\n",
    "\n",
    "df1 = df1.astype({'Time_taken(min)':'int64'})\n",
    "\n",
    "print( df1.dtypes, '\\n' )\n",
    "\n",
    "len( df1 )"
   ]
  },
  {
   "cell_type": "code",
   "execution_count": null,
   "id": "fe267906-3f5b-402f-a094-debc42e32779",
   "metadata": {},
   "outputs": [],
   "source": []
  }
 ],
 "metadata": {
  "kernelspec": {
   "display_name": "Python 3 (ipykernel)",
   "language": "python",
   "name": "python3"
  },
  "language_info": {
   "name": ""
  }
 },
 "nbformat": 4,
 "nbformat_minor": 5
}
